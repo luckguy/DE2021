{
  "nbformat": 4,
  "nbformat_minor": 0,
  "metadata": {
    "colab": {
      "name": "DE05_01_fruit_series.ipynb",
      "provenance": [],
      "authorship_tag": "ABX9TyNbrZKcDl7oi/YH+/rKHaEx",
      "include_colab_link": true
    },
    "kernelspec": {
      "name": "python3",
      "display_name": "Python 3"
    },
    "language_info": {
      "name": "python"
    }
  },
  "cells": [
    {
      "cell_type": "markdown",
      "metadata": {
        "id": "view-in-github",
        "colab_type": "text"
      },
      "source": [
        "<a href=\"https://colab.research.google.com/github/luckguy/DE2021/blob/main/DE05_01_fruit_series.ipynb\" target=\"_parent\"><img src=\"https://colab.research.google.com/assets/colab-badge.svg\" alt=\"Open In Colab\"/></a>"
      ]
    },
    {
      "cell_type": "markdown",
      "metadata": {
        "id": "o4gEf_DeruxT"
      },
      "source": [
        "##範例 5-1: Series 建立"
      ]
    },
    {
      "cell_type": "code",
      "metadata": {
        "id": "XgfBd1murU4C"
      },
      "source": [
        "import pandas as pd \n"
      ],
      "execution_count": 15,
      "outputs": []
    },
    {
      "cell_type": "code",
      "metadata": {
        "id": "eTwkQIVbrZlJ"
      },
      "source": [
        "fruits = [\"蘋果\", \"橘子\", \"梨子\", \"櫻桃\"]\n",
        "quantities = [15, 33, 45, 55]\n",
        "s = pd.Series(quantities, index=fruits)\n",
        "p = pd.Series([11, 16, 21, 32], index=fruits)"
      ],
      "execution_count": 16,
      "outputs": []
    },
    {
      "cell_type": "code",
      "metadata": {
        "colab": {
          "base_uri": "https://localhost:8080/"
        },
        "id": "WUfpwsoIsDMu",
        "outputId": "34f8a2a2-781c-4ba1-9202-73b99648a484"
      },
      "source": [
        "print('s=',s)\n",
        "print('p=',p)\n",
        "print(\"s['蘋果']=\",s['蘋果'])"
      ],
      "execution_count": 17,
      "outputs": [
        {
          "output_type": "stream",
          "name": "stdout",
          "text": [
            "s= 蘋果    15\n",
            "橘子    33\n",
            "梨子    45\n",
            "櫻桃    55\n",
            "dtype: int64\n",
            "p= 蘋果    11\n",
            "橘子    16\n",
            "梨子    21\n",
            "櫻桃    32\n",
            "dtype: int64\n",
            "s['蘋果']= 15\n"
          ]
        }
      ]
    },
    {
      "cell_type": "code",
      "metadata": {
        "colab": {
          "base_uri": "https://localhost:8080/"
        },
        "id": "ljRY8Yz8sDn2",
        "outputId": "d17da0a1-6eb5-4edc-8675-029aa9eb43c5"
      },
      "source": [
        "print('s+p=',s + p)\n",
        "print(\"總計=\", sum(s + p)) "
      ],
      "execution_count": 18,
      "outputs": [
        {
          "output_type": "stream",
          "name": "stdout",
          "text": [
            "s+p= 蘋果    26\n",
            "橘子    49\n",
            "梨子    66\n",
            "櫻桃    87\n",
            "dtype: int64\n",
            "總計= 228\n"
          ]
        }
      ]
    }
  ]
}