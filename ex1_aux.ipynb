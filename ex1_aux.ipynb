{
  "nbformat": 4,
  "nbformat_minor": 0,
  "metadata": {
    "colab": {
      "name": "ex1_aux.ipynb",
      "provenance": [],
      "collapsed_sections": [],
      "toc_visible": true,
      "mount_file_id": "1ynVFv1piTRazorPZ33tsHBshxGxJvM-3",
      "authorship_tag": "ABX9TyPQI+KhDzEzuFCN61gzYgaS",
      "include_colab_link": true
    },
    "kernelspec": {
      "name": "python3",
      "display_name": "Python 3"
    },
    "language_info": {
      "name": "python"
    }
  },
  "cells": [
    {
      "cell_type": "markdown",
      "metadata": {
        "id": "view-in-github",
        "colab_type": "text"
      },
      "source": [
        "<a href=\"https://colab.research.google.com/github/luckguy/DE2021/blob/main/ex1_aux.ipynb\" target=\"_parent\"><img src=\"https://colab.research.google.com/assets/colab-badge.svg\" alt=\"Open In Colab\"/></a>"
      ]
    },
    {
      "cell_type": "markdown",
      "metadata": {
        "id": "A9EPf_ryNWmo"
      },
      "source": [
        "# 作業 1 輔助資料"
      ]
    },
    {
      "cell_type": "code",
      "metadata": {
        "id": "Ns-Y-Pjoroeo"
      },
      "source": [
        "import numpy as np\n",
        "from random import randint\n",
        "from random import seed\n",
        "from datetime import datetime"
      ],
      "execution_count": null,
      "outputs": []
    },
    {
      "cell_type": "markdown",
      "metadata": {
        "id": "wC_lFhZVW3N6"
      },
      "source": [
        "---\n",
        "## <font color='red'> 定義銅板類別 </font>##"
      ]
    },
    {
      "cell_type": "code",
      "metadata": {
        "id": "b1bchG95sqYp"
      },
      "source": [
        "class coin:\n",
        "    def __init__(self):\n",
        "        current=datetime.now() # 取得目前時間\n",
        "        seed(datetime.timestamp(current)) # 以時間作為種子\n",
        "    def seed(self,myseed):  # 亂數種子設定\n",
        "        seed(myseed)\n",
        "    def toss(self):  # 丟擲\n",
        "        return randint(0,1)\n"
      ],
      "execution_count": null,
      "outputs": []
    },
    {
      "cell_type": "markdown",
      "metadata": {
        "id": "iXRBAiNQItZ0"
      },
      "source": [
        "---"
      ]
    },
    {
      "cell_type": "markdown",
      "metadata": {
        "id": "QvHyuYtYoohn"
      },
      "source": [
        "#### 宣告一銅板物件 , 可設亂數種子亦可不設定"
      ]
    },
    {
      "cell_type": "code",
      "metadata": {
        "id": "-NoSZ5mFoz8R"
      },
      "source": [
        "a=coin() # 產生一個銅板\n",
        "#a.seed(3)"
      ],
      "execution_count": null,
      "outputs": []
    },
    {
      "cell_type": "markdown",
      "metadata": {
        "id": "abT6z6ljMKiK"
      },
      "source": [
        "---"
      ]
    },
    {
      "cell_type": "markdown",
      "metadata": {
        "id": "RRMVkTbYswIW"
      },
      "source": [
        "### 丟 10 次銅板，觀看輸出 ###"
      ]
    },
    {
      "cell_type": "code",
      "metadata": {
        "id": "I7p5nsfYtMnT",
        "colab": {
          "base_uri": "https://localhost:8080/"
        },
        "outputId": "2aed46b8-53a9-4ecf-9a3c-edc67808826b"
      },
      "source": [
        "N=10\n",
        "for i in range(N):\n",
        "    print(a.toss())  # 列印投擲結果"
      ],
      "execution_count": null,
      "outputs": [
        {
          "output_type": "stream",
          "name": "stdout",
          "text": [
            "1\n",
            "1\n",
            "1\n",
            "1\n",
            "1\n",
            "0\n",
            "1\n",
            "0\n",
            "1\n",
            "0\n"
          ]
        }
      ]
    },
    {
      "cell_type": "markdown",
      "metadata": {
        "id": "Lf_chA6sMO5c"
      },
      "source": [
        "---\n",
        "## <font color='blue'>統計結果 </font>"
      ]
    },
    {
      "cell_type": "code",
      "metadata": {
        "colab": {
          "base_uri": "https://localhost:8080/"
        },
        "id": "bzvST62XtTrv",
        "outputId": "df3e2305-5ad8-4d70-a031-55103b37e525"
      },
      "source": [
        "result=np.zeros(N)\n",
        "#a.seed(3)\n",
        "for i in range(N):\n",
        "    result[i]=a.toss()  # 紀錄投擲結果\n",
        "print('result=',result)   # 列印\n",
        "print('平均={:7.2f}'.format(result.mean())) # 求平均值\n",
        "print('標準差={:7.5f}'.format(result.std())) # 求標準差 "
      ],
      "execution_count": null,
      "outputs": [
        {
          "output_type": "stream",
          "name": "stdout",
          "text": [
            "result= [1. 0. 1. 1. 1. 0. 1. 1. 0. 0.]\n",
            "平均=   0.60\n",
            "標準差=0.48990\n"
          ]
        }
      ]
    }
  ]
}